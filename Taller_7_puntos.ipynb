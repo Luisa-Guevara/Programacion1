{
 "cells": [
  {
   "cell_type": "markdown",
   "id": "e1b81500",
   "metadata": {},
   "source": [
    "**Cree las siguientes funciones, con su debida documentación:**\n",
    "\n",
    "1. Cree una función que regrese como resultado el nombre de un restaurante y su NIT en una cadena de caracteres, pueden ser ficticios.\n",
    "2. Si en dicho restaurante cada persona consume en promedio 50000, haga una función que permira calcular el valor de la cuenta, en promedio, dado el número de comensales.\n",
    "3. En el total calculado en el punto anterior se incluye el impuesto al consumo, cree una función que le permita conocer el valor que debería pagar sin dicho impuesto el cual asciende al $8\\%$.\n",
    "4. Una función que tenga como argumentos de entrada nombre de una persona y cantidad de comensales, la función debe tener como respuesta un \"recibo\" en el que aparezca el nombre del restaurante, su NIT, el nombre del cliente, el valor de la factura sin impuestos y con impuestos (sug: emplee como base las funciones creadas anteriormente).\n",
    "5. Una función que permita calcular el máximo entre dos números.\n",
    "6. Una función que ordene de menor a mayor tres números.\n",
    "7. Una función que dadas 5 notas de un estudiante, le permitan calcular la definitiva de la materia (nota 1: 10%, nota 2: 20%, nota 3: 30%, nota 4: 15%, nota 5: 25%) junto a un mensaje el cual resuma el desempeño del estudiante en el curso. (*Sug*: utilice los intervalos $0\\leq x<1,\\ 1\\leq x<2,\\ 2\\leq x<3,\\ 3\\leq x<4, 4\\leq x<4.5,\\ 4.5\\leq x\\leq5 $)"
   ]
  },
  {
   "cell_type": "markdown",
   "id": "5796bb83",
   "metadata": {},
   "source": [
    "### *PUNTO 1*"
   ]
  },
  {
   "cell_type": "code",
   "execution_count": 4,
   "id": "3dfb1896",
   "metadata": {},
   "outputs": [],
   "source": [
    "def informacion():\n",
    "    nombre= \"Coffe delicious\"\n",
    "    NIT= \"Nit:327488594\"\n",
    "    return str(nombre+\" \"+NIT)"
   ]
  },
  {
   "cell_type": "code",
   "execution_count": 5,
   "id": "b6072c7d",
   "metadata": {},
   "outputs": [
    {
     "data": {
      "text/plain": [
       "'Coffe delicious Nit:327488594'"
      ]
     },
     "execution_count": 5,
     "metadata": {},
     "output_type": "execute_result"
    }
   ],
   "source": [
    "informacion()"
   ]
  },
  {
   "cell_type": "markdown",
   "id": "f15d994f",
   "metadata": {},
   "source": [
    "### *PUNTO 2*"
   ]
  },
  {
   "cell_type": "code",
   "execution_count": 9,
   "id": "586bfa7a",
   "metadata": {},
   "outputs": [],
   "source": [
    "def valor_a_pagar(Comensales):\n",
    "    Consumo_por_persona= int(50000)\n",
    "    valor_de_cuenta = Comensales * Consumo_por_persona\n",
    "    return int(valor_de_cuenta)"
   ]
  },
  {
   "cell_type": "code",
   "execution_count": 10,
   "id": "6a76a56b",
   "metadata": {},
   "outputs": [
    {
     "data": {
      "text/plain": [
       "450000"
      ]
     },
     "execution_count": 10,
     "metadata": {},
     "output_type": "execute_result"
    }
   ],
   "source": [
    "valor_a_pagar(9)"
   ]
  },
  {
   "cell_type": "markdown",
   "id": "fbd3e626",
   "metadata": {},
   "source": [
    "### *PUNTO 3*"
   ]
  },
  {
   "cell_type": "code",
   "execution_count": 31,
   "id": "89eb2d38",
   "metadata": {},
   "outputs": [],
   "source": [
    "def total_sin_impuesto():\n",
    "    x= (valor_a_pagar(8) * 100)/108 \n",
    "    return int(x)"
   ]
  },
  {
   "cell_type": "code",
   "execution_count": 32,
   "id": "044e78c8",
   "metadata": {},
   "outputs": [
    {
     "data": {
      "text/plain": [
       "370370"
      ]
     },
     "execution_count": 32,
     "metadata": {},
     "output_type": "execute_result"
    }
   ],
   "source": [
    "total_sin_impuesto()"
   ]
  },
  {
   "cell_type": "markdown",
   "id": "3db0fa64",
   "metadata": {},
   "source": [
    "### *PUNTO 4*"
   ]
  },
  {
   "cell_type": "code",
   "execution_count": 35,
   "id": "e9b5ba42",
   "metadata": {},
   "outputs": [],
   "source": [
    "def recibo(nombre_del_cliente):\n",
    "    print(f\"\"\"{informacion()} \n",
    "Cliente= {nombre_del_cliente} \n",
    "Valor de la factura sin impuestos= {total_sin_impuesto()} \n",
    "Valor con impuestos= {valor_a_pagar(7)}\"\"\")\n",
    "    return recibo"
   ]
  },
  {
   "cell_type": "code",
   "execution_count": 36,
   "id": "c3f5dc8c",
   "metadata": {},
   "outputs": [
    {
     "name": "stdout",
     "output_type": "stream",
     "text": [
      "Coffe delicious Nit:327488594 \n",
      "Cliente= Luisa Guevara \n",
      "Valor de la factura sin impuestos= 370370 \n",
      "Valor con impuestos= 350000\n"
     ]
    },
    {
     "data": {
      "text/plain": [
       "<function __main__.recibo(nombre_del_cliente)>"
      ]
     },
     "execution_count": 36,
     "metadata": {},
     "output_type": "execute_result"
    }
   ],
   "source": [
    "recibo(\"Luisa Guevara\")"
   ]
  },
  {
   "cell_type": "markdown",
   "id": "f04c2546",
   "metadata": {},
   "source": [
    "### *PUNTO 5*"
   ]
  },
  {
   "cell_type": "code",
   "execution_count": 43,
   "id": "7aa47b3b",
   "metadata": {},
   "outputs": [],
   "source": [
    "def num_mayor(x,y):\n",
    "    if x>y:\n",
    "        print(\"El numero mayor es:\",x)\n",
    "    else:\n",
    "        print(\"El número mayor es:\",y)\n",
    "    return num_mayor"
   ]
  },
  {
   "cell_type": "code",
   "execution_count": 44,
   "id": "76a86fa0",
   "metadata": {},
   "outputs": [
    {
     "name": "stdout",
     "output_type": "stream",
     "text": [
      "El número mayor es: 8\n"
     ]
    },
    {
     "data": {
      "text/plain": [
       "<function __main__.num_mayor(x, y)>"
      ]
     },
     "execution_count": 44,
     "metadata": {},
     "output_type": "execute_result"
    }
   ],
   "source": [
    "num_mayor(4, 8)"
   ]
  },
  {
   "cell_type": "markdown",
   "id": "5d8ccd99",
   "metadata": {},
   "source": [
    "### *PUNTO 6*"
   ]
  },
  {
   "cell_type": "code",
   "execution_count": 52,
   "id": "a10afd6f",
   "metadata": {},
   "outputs": [],
   "source": [
    "def orden_de_números(a,b,c):\n",
    "    if (a>b and b>c):\n",
    "        print(a,\" - \",b,\" - \",c)\n",
    "    elif (b>a and a>c):\n",
    "        print(b,\" - \",a,\" - \",c)\n",
    "    elif (c>a and a>b):\n",
    "        print(c,\" - \",a,\" - \",b)\n",
    "    elif (c>b and b>a):\n",
    "        print(c,\" - \",b,\" - \",a) \n",
    "    elif (a>c and c>b):\n",
    "        print(a,\" - \",c,\" - \",b) \n",
    "    elif (b>c and c>a):\n",
    "        print(a,\" - \",c,\" - \",b) \n",
    "    else:\n",
    "        print (\"Los números son iguales\")\n",
    "    return orden_de_números"
   ]
  },
  {
   "cell_type": "code",
   "execution_count": 53,
   "id": "572544dc",
   "metadata": {},
   "outputs": [
    {
     "name": "stdout",
     "output_type": "stream",
     "text": [
      "3  -  6  -  8\n"
     ]
    },
    {
     "data": {
      "text/plain": [
       "<function __main__.orden_de_números(a, b, c)>"
      ]
     },
     "execution_count": 53,
     "metadata": {},
     "output_type": "execute_result"
    }
   ],
   "source": [
    "orden_de_números(3,8,6)"
   ]
  },
  {
   "cell_type": "markdown",
   "id": "bf6e2aab",
   "metadata": {},
   "source": [
    "### *PUNTO 7*"
   ]
  },
  {
   "cell_type": "code",
   "execution_count": 58,
   "id": "fb7823f1",
   "metadata": {},
   "outputs": [],
   "source": [
    "def definitiva(nota1,nota2,nota3,nota4,nota5):\n",
    "    porcentaje= ((nota1 * 0.1)+(nota2 * 0.2)+(nota3 * 0.3)+(nota4 * 0.15)+(nota5 * 0.25))\n",
    "    if porcentaje < 3:\n",
    "        print(porcentaje,\"\"\"El desempeño del estudiante es bajo, no supera los logros\n",
    "        propuestos y muestra poco interés por el aprendizaje\"\"\")\n",
    "    elif (porcentaje>3 and porcentaje<4): \n",
    "        print(porcentaje,\"\"\"El desempeño del estudiante es básico, cumple con los logros \n",
    "        básicos y presenta dificultades en su trabajo\"\"\")\n",
    "    elif (porcentaje>4 and porcentaje<5): \n",
    "        print(porcentaje,\"\"\"El desempeño del estudiante es alto, demuestra alcance de los logros\n",
    "        propuestos y calidad de trabajo escolar\"\"\")\n",
    "    elif porcentaje==5: \n",
    "        print(porcentaje,\"\"\"El desempeño del estudiante es superior, presenta dominio de los logros\n",
    "        propuestos y profundiza el conocimiento\"\"\")\n",
    "    return definitiva"
   ]
  },
  {
   "cell_type": "code",
   "execution_count": 61,
   "id": "1d614564",
   "metadata": {},
   "outputs": [
    {
     "name": "stdout",
     "output_type": "stream",
     "text": [
      "3.0199999999999996 El desempeño del estudiante es básico, cumple con los logros \n",
      "        básicos y presenta dificultades en su trabajo\n"
     ]
    },
    {
     "data": {
      "text/plain": [
       "<function __main__.definitiva(nota1, nota2, nota3, nota4, nota5)>"
      ]
     },
     "execution_count": 61,
     "metadata": {},
     "output_type": "execute_result"
    }
   ],
   "source": [
    "definitiva(4.5,5.0,3.4,2.0,1.0)"
   ]
  },
  {
   "cell_type": "code",
   "execution_count": null,
   "id": "406f6e06",
   "metadata": {},
   "outputs": [],
   "source": []
  }
 ],
 "metadata": {
  "kernelspec": {
   "display_name": "Python 3 (ipykernel)",
   "language": "python",
   "name": "python3"
  },
  "language_info": {
   "codemirror_mode": {
    "name": "ipython",
    "version": 3
   },
   "file_extension": ".py",
   "mimetype": "text/x-python",
   "name": "python",
   "nbconvert_exporter": "python",
   "pygments_lexer": "ipython3",
   "version": "3.9.7"
  }
 },
 "nbformat": 4,
 "nbformat_minor": 5
}
