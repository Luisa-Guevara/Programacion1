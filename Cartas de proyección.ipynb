{
 "cells": [
  {
   "cell_type": "markdown",
   "id": "97b4a977",
   "metadata": {},
   "source": [
    "## Carta para dentro de un año"
   ]
  },
  {
   "cell_type": "code",
   "execution_count": 1,
   "id": "3014e1ee",
   "metadata": {},
   "outputs": [
    {
     "name": "stdout",
     "output_type": "stream",
     "text": [
      "La remitente de la carta es:Tú yo del pasado\n",
      "La destinataria de esta carta es:Yo del futuro\n"
     ]
    }
   ],
   "source": [
    "Remitente= input(\"La remitente de la carta es:\")\n",
    "Destinataria= input(\"La destinataria de esta carta es:\")"
   ]
  },
  {
   "cell_type": "code",
   "execution_count": 2,
   "id": "ceb5c94b",
   "metadata": {},
   "outputs": [
    {
     "name": "stdout",
     "output_type": "stream",
     "text": [
      "Mi edad actual es:17 años\n",
      "Mi edad dentro de un año es:18 años\n"
     ]
    }
   ],
   "source": [
    "Edad_actual= input(\"Mi edad actual es:\")\n",
    "Edad_del_futuro= input(\"Mi edad dentro de un año es:\")"
   ]
  },
  {
   "cell_type": "code",
   "execution_count": 3,
   "id": "5f9a45de",
   "metadata": {},
   "outputs": [
    {
     "name": "stdout",
     "output_type": "stream",
     "text": [
      "                                                                                          14/02/2022\n",
      "                                                                                          Bogotá D.C\n",
      "Querida Yo del futuro\n",
      "\n",
      "\n",
      "Te habla tu yo de 17 años ¿que se siente tener 18 años ?.\n",
      "No puedo creer que crezcamos tan rápido, la verdad me entusiasma saber como estas y como te ves, \n",
      "a pesar de que intento hacerme una idea, en el fondo soy conciente de que somos seres cambiantes\n",
      "y quizas la imagen que tengo al momento de escribir esta carta, ya sea totalmente distinta.\n",
      "\n",
      "El motivo de esta carta es para felicitarte porque me entere que a pesar de las dudas\n",
      "y de las diferentes circunstancias que te agobiaron en el 2022 lograste\n",
      "lo que te porposiste y ahora estas dessarollandote en las actividades de la U,con la\n",
      "facilidad con la que soñabas cunado te vi por ultima vez.\n",
      "\n",
      "Sigue cumpliendo tus metas sin jamas perder de vista lo importante ser  feliz con lo que hagas\n",
      "\n",
      "Con amor: Tú yo del pasado\n"
     ]
    }
   ],
   "source": [
    "print(\"14/02/2022\".rjust(100,' '))\n",
    "print(\"Bogotá D.C\".rjust(100,' '))\n",
    "\n",
    "print(\"Querida\", Destinataria)\n",
    "print(\"\\n\")\n",
    "\n",
    "print(\"Te habla tu yo de\", Edad_actual, \"¿que se siente tener\",Edad_del_futuro,\"?.\")\n",
    "\n",
    "print(\"\"\"No puedo creer que crezcamos tan rápido, la verdad me entusiasma saber como estas y como te ves, \n",
    "a pesar de que intento hacerme una idea, en el fondo soy conciente de que somos seres cambiantes\n",
    "y quizas la imagen que tengo al momento de escribir esta carta, ya sea totalmente distinta.\\n\"\"\")\n",
    "\n",
    "print(\"\"\"El motivo de esta carta es para felicitarte porque me entere que a pesar de las dudas\n",
    "y de las diferentes circunstancias que te agobiaron en el 2022 lograste\n",
    "lo que te porposiste y ahora estas dessarollandote en las actividades de la U,con la\n",
    "facilidad con la que soñabas cunado te vi por ultima vez.\\n\"\"\")\n",
    "\n",
    "print(\"Sigue cumpliendo tus metas sin jamas perder de vista lo importante ser  feliz con lo que hagas\\n\")\n",
    "\n",
    "print(\"Con amor:\", Remitente)"
   ]
  },
  {
   "cell_type": "markdown",
   "id": "9f3ad4cb",
   "metadata": {},
   "source": [
    "## Carta para dentro de 5 años"
   ]
  },
  {
   "cell_type": "code",
   "execution_count": 4,
   "id": "4eb60677",
   "metadata": {},
   "outputs": [
    {
     "name": "stdout",
     "output_type": "stream",
     "text": [
      "La remitente de la carta es:Tú yo cuando eras primípara\n",
      "La destinataria de esta carta es:Científica de Datos\n"
     ]
    }
   ],
   "source": [
    "Remitente= input(\"La remitente de la carta es:\")\n",
    "Destinataria= input(\"La destinataria de esta carta es:\")"
   ]
  },
  {
   "cell_type": "code",
   "execution_count": 5,
   "id": "678fada9",
   "metadata": {},
   "outputs": [
    {
     "name": "stdout",
     "output_type": "stream",
     "text": [
      "Cuando sea profesional tengo:22 años\n"
     ]
    }
   ],
   "source": [
    "Mi_edad_de_profesional= input(\"Cuando sea profesional tengo:\")"
   ]
  },
  {
   "cell_type": "code",
   "execution_count": 6,
   "id": "e8c42e92",
   "metadata": {},
   "outputs": [
    {
     "name": "stdout",
     "output_type": "stream",
     "text": [
      "Mi saldo deseado para un futuro es:$10.000.000 COP\n"
     ]
    }
   ],
   "source": [
    "Saldo_deseado= input(\"Mi saldo deseado para un futuro es:\")"
   ]
  },
  {
   "cell_type": "code",
   "execution_count": 7,
   "id": "45f0249e",
   "metadata": {},
   "outputs": [
    {
     "name": "stdout",
     "output_type": "stream",
     "text": [
      "Mi apodo deseado es:\"La millonaria de la familia\"\n"
     ]
    }
   ],
   "source": [
    "Apodo_deseado= input(\"Mi apodo deseado es:\")"
   ]
  },
  {
   "cell_type": "code",
   "execution_count": 8,
   "id": "08a80ce9",
   "metadata": {},
   "outputs": [
    {
     "name": "stdout",
     "output_type": "stream",
     "text": [
      "                                                                                          14/02/2022\n",
      "                                                                                          Bogotá D.C\n",
      "Apreciada Científica de Datos\n",
      "\n",
      "\n",
      "Te escribo esta carta con la esperanza de que tu agenda ocupada no sea un obstaculo para leerla.\n",
      "\n",
      "Me entere que ya eres toda una Cientifica de datos a tus 22 años titulo el\n",
      "cual añorabas tanto,o eso me decias la ultima vez que hablamos. Espero que no hayas olvidado\n",
      "jamas esa alegria que te caraterisaba, y que para ti el trabajo nos se haya convertido en un \n",
      "amo esclavizante, sino en un camino hacia el logro de tus metas\n",
      "\n",
      "Quiero hacerte saber lo orgullosa y feliz que estoy de\n",
      "que ya eres toda una profesional como lo soñabas. Y de que estas desempeñandote \n",
      "en una gran empresa, ganandote $10.000.000 COP mensuales. lo que te ha permitido\n",
      "acercarte cada día más a ese apodo deseado \"La millonaria de la familia\"\n",
      "\n",
      "\n",
      "Con amor y admiración: Tú yo cuando eras primípara\n"
     ]
    }
   ],
   "source": [
    "print(\"14/02/2022\".rjust(100,' '))\n",
    "print(\"Bogotá D.C\".rjust(100,' '))\n",
    "\n",
    "print(\"Apreciada\", Destinataria)\n",
    "print(\"\\n\")\n",
    "\n",
    "print(\"Te escribo esta carta con la esperanza de que tu agenda ocupada no sea un obstaculo para leerla.\\n\")\n",
    "\n",
    "print(\"Me entere que ya eres toda una Cientifica de datos a tus\",Mi_edad_de_profesional,\"\"\"titulo el\n",
    "cual añorabas tanto,o eso me decias la ultima vez que hablamos. Espero que no hayas olvidado\n",
    "jamas esa alegria que te caraterisaba, y que para ti el trabajo nos se haya convertido en un \n",
    "amo esclavizante, sino en un camino hacia el logro de tus metas\\n\"\"\" )\n",
    "\n",
    "print(\"\"\"Quiero hacerte saber lo orgullosa y feliz que estoy de\n",
    "que ya eres toda una profesional como lo soñabas. Y de que estas desempeñandote \n",
    "en una gran empresa, ganandote\"\"\", Saldo_deseado, \"\"\"mensuales. lo que te ha permitido\n",
    "acercarte cada día más a ese apodo deseado\"\"\",Apodo_deseado)\n",
    "\n",
    "print(\"\\n\")\n",
    "\n",
    "print(\"Con amor y admiración:\", Remitente)"
   ]
  },
  {
   "cell_type": "code",
   "execution_count": 9,
   "id": "4bdfaab0",
   "metadata": {},
   "outputs": [
    {
     "name": "stdout",
     "output_type": "stream",
     "text": [
      "                                                                     Luisa Fernanda Guevara Usuriaga\n"
     ]
    }
   ],
   "source": [
    "print(\"Luisa Fernanda Guevara Usuriaga\".rjust(100,' '))"
   ]
  }
 ],
 "metadata": {
  "kernelspec": {
   "display_name": "Python 3 (ipykernel)",
   "language": "python",
   "name": "python3"
  },
  "language_info": {
   "codemirror_mode": {
    "name": "ipython",
    "version": 3
   },
   "file_extension": ".py",
   "mimetype": "text/x-python",
   "name": "python",
   "nbconvert_exporter": "python",
   "pygments_lexer": "ipython3",
   "version": "3.9.7"
  }
 },
 "nbformat": 4,
 "nbformat_minor": 5
}
