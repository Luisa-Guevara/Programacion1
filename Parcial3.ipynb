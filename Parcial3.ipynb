{
 "cells": [
  {
   "cell_type": "markdown",
   "id": "fc81edda",
   "metadata": {},
   "source": [
    "# Parcial 3\n",
    "***Luisa Fernanda Guevara Usuriaga***"
   ]
  },
  {
   "cell_type": "markdown",
   "id": "20ee9b25",
   "metadata": {},
   "source": [
    "## Punto 2"
   ]
  },
  {
   "cell_type": "code",
   "execution_count": null,
   "id": "505d7bf5",
   "metadata": {},
   "outputs": [],
   "source": [
    "def raíz_digital(num):\n",
    "    \"\"\"La función recibe un número, y comienza a sumar sus digitos, hasta que  la suma de estos\n",
    "    da un número de una sola cifra, número que sera su raíz digital\"\"\"\n",
    "    num= str(num)\n",
    "    estado= True\n",
    "    while estado==True:\n",
    "        lista = []\n",
    "        for i in num:\n",
    "            lista.append(int(i))\n",
    "        new_num=0\n",
    "        if len(lista)!=1:\n",
    "            for a in lista:\n",
    "                new_num+=a\n",
    "                num= str(new_num)\n",
    "        else:\n",
    "            print(f\"La raíz digital es: {num}\")\n",
    "            estado=False\n",
    "    \n",
    "    return "
   ]
  },
  {
   "cell_type": "code",
   "execution_count": null,
   "id": "e2a13902",
   "metadata": {},
   "outputs": [],
   "source": [
    "raíz_digital(4546)"
   ]
  },
  {
   "cell_type": "markdown",
   "id": "e7eadcba",
   "metadata": {},
   "source": [
    "## Punto 10"
   ]
  },
  {
   "cell_type": "code",
   "execution_count": null,
   "id": "a69bd40e",
   "metadata": {},
   "outputs": [],
   "source": [
    "from datascience import *  #Libreria enseñada en Introducción a la Ciencia de Datos\n",
    "import numpy as np\n",
    "\n",
    "def area_poligono_irregular(xy):\n",
    "    \"\"\"La función, recibe una lista de parejas de coordenadas organizadas en orden \n",
    "    de las manecillas del reloj, donde la última pareja debe ser la repetición de la primera. \n",
    "    Luego separando las coordenadas x en una matriz y las coordenadas y en otra, realiza \n",
    "    el determinante de Gauss para calcula el área de dicho polígono irregular.\"\"\"\n",
    "    \n",
    "    matriz1 = make_array()\n",
    "    x = 0\n",
    "    for i in xy:\n",
    "        m = xy[x][0]\n",
    "        matriz1 = np.append(matriz1,int(m))\n",
    "        x += 1\n",
    "\n",
    "    matriz2 = make_array()\n",
    "    y= 0\n",
    "    for a in xy:\n",
    "        h = xy[y][1]\n",
    "        matriz2 = np.append(matriz2,int(h))\n",
    "        y += 1\n",
    "\n",
    "    p_d1 = make_array()\n",
    "    m = 0\n",
    "    while m!=len(xy)-1:\n",
    "        p= matriz1[m]* matriz2[m+1]\n",
    "        p_d1= np.append(p_d1,p)\n",
    "        m+=1\n",
    "\n",
    "    suma = 0\n",
    "    for g in p_d1:\n",
    "        if g!=0:\n",
    "            suma+=int(g)\n",
    "\n",
    "    p_d2 = make_array()\n",
    "    k = 0\n",
    "    while k!=len(xy)-1:\n",
    "        p1= matriz2[k]* matriz1[k+1]\n",
    "        p_d2 = np.append(p_d2,p1)\n",
    "        k+=1\n",
    "\n",
    "    suma2 = 0\n",
    "    for j in p_d2:\n",
    "        if j!=0:\n",
    "            suma2+=int(j)\n",
    "    \n",
    "    area = int((max(suma,suma2) - min(suma,suma2))/2)\n",
    "    \n",
    "    return (\"El área del polígono irregular ingresado es:\", area)"
   ]
  },
  {
   "cell_type": "code",
   "execution_count": null,
   "id": "30d3672a",
   "metadata": {},
   "outputs": [],
   "source": [
    "area_poligono_irregular([(0,6),(8,0),(0,-3),(-4,-3),(-4,-2),(0,6)])"
   ]
  },
  {
   "cell_type": "markdown",
   "id": "f6142f5c",
   "metadata": {},
   "source": [
    "## Punto 18"
   ]
  },
  {
   "cell_type": "markdown",
   "id": "1882fff3",
   "metadata": {},
   "source": [
    "### a) Baraja Francesa:"
   ]
  },
  {
   "cell_type": "code",
   "execution_count": null,
   "id": "31f51ab8",
   "metadata": {},
   "outputs": [],
   "source": [
    "numeros=[\"A\",2,3,4,5,6,7,8,9,10,\"J\",\"Q\",\"k\"]\n",
    "pinta=[\"corazon\", \"diamante\", \"trebol\", \"pica\"]\n",
    "cartas=[]\n",
    "for i in numeros:\n",
    "    for a in pinta:\n",
    "        if a==\"corazon\":\n",
    "            cartas.append((i,a,\"Rojo\"))\n",
    "        if a==\"diamante\":\n",
    "            cartas.append((i,a,\"Rojo\"))\n",
    "        if a==\"trebol\":\n",
    "            cartas.append((i,a,\"Negro\"))\n",
    "        if a==\"pica\":\n",
    "            cartas.append((i,a,\"Negro\"))\n",
    "cartas"
   ]
  },
  {
   "cell_type": "markdown",
   "id": "02434f92",
   "metadata": {},
   "source": [
    "### b) Todas las posibles combinaciones de una placa que tenga 2 letras y 3 dígitos"
   ]
  },
  {
   "cell_type": "code",
   "execution_count": null,
   "id": "5c0478aa",
   "metadata": {},
   "outputs": [],
   "source": [
    "letras=('A','B','C','D','E','F','G','H','I','J','K','L','M','N','Ñ','O','P','Q','R','S','T','U','V','W','X','Y','Z')\n",
    "digitos= (0,1,2,3,4,5,6,7,8,9)\n",
    "placas=[]\n",
    "for a in letras:\n",
    "    for b in letras:\n",
    "        for c in digitos:\n",
    "            for d in digitos:\n",
    "                for e in digitos:\n",
    "                    placas.append([a,b,c,d,e])\n",
    "placas"
   ]
  },
  {
   "cell_type": "markdown",
   "id": "7b0ec284",
   "metadata": {},
   "source": [
    "## Punto 26"
   ]
  },
  {
   "cell_type": "code",
   "execution_count": null,
   "id": "b134fdf8",
   "metadata": {},
   "outputs": [],
   "source": [
    "from math import*"
   ]
  },
  {
   "cell_type": "code",
   "execution_count": null,
   "id": "031115fb",
   "metadata": {},
   "outputs": [],
   "source": [
    "def fuerza_de_arrastre(v):\n",
    "    \"\"\"La función recibe la velocidad de un balón al ser pateado. Y permite calcular\n",
    "    la fuerza de arrastre y la fuerza de gravedad\"\"\"\n",
    "  \n",
    "    v= (v*1000)/3600 #m/s \n",
    "    a = 11 #cm\n",
    "    m = 0.43 #kg\n",
    "    d_aire = 1.2*(m**-3) #Kg/(m**3)\n",
    "    Cd = 0.4\n",
    "    g = 9.81 #(m/s**2)\n",
    "    A = pi*(a**2) #cm\n",
    "    f_gravedad = m*g  #m/s**2\n",
    "    f_arrastre = (Cd*d_aire*A*(v**2))/2\n",
    "    return (f\"\"\"Al patear un balon de radio 11cm, y de masa 0.43 kg, su fuerza de gravedad es {f_gravedad} kg/s**2 /n\n",
    "            y la fuerza de arrastre {f_arrastre}\"\"\")"
   ]
  },
  {
   "cell_type": "code",
   "execution_count": null,
   "id": "7409a866",
   "metadata": {},
   "outputs": [],
   "source": [
    "fuerza_de_arrastre(120)"
   ]
  },
  {
   "cell_type": "code",
   "execution_count": null,
   "id": "3cb6ef9d",
   "metadata": {},
   "outputs": [],
   "source": [
    "fuerza_de_arrastre(30)"
   ]
  },
  {
   "cell_type": "code",
   "execution_count": null,
   "id": "05be3054",
   "metadata": {},
   "outputs": [],
   "source": []
  }
 ],
 "metadata": {
  "kernelspec": {
   "display_name": "Python 3 (ipykernel)",
   "language": "python",
   "name": "python3"
  },
  "language_info": {
   "codemirror_mode": {
    "name": "ipython",
    "version": 3
   },
   "file_extension": ".py",
   "mimetype": "text/x-python",
   "name": "python",
   "nbconvert_exporter": "python",
   "pygments_lexer": "ipython3",
   "version": "3.9.7"
  }
 },
 "nbformat": 4,
 "nbformat_minor": 5
}
